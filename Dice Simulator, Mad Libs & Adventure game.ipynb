{
 "cells": [
  {
   "cell_type": "markdown",
   "metadata": {},
   "source": [
    "1. Dice Rolling Simulator\n",
    "\n",
    "The Goal: Like the title suggests, this project involves writing a program that simulates rolling dice. When the program runs, it will randomly choose a number between 1 and 6. (Or whatever other integer you prefer — the number of sides on the die is up to you.) The program will print what that number is. It should then ask you if you’d like to roll again. For this project, you’ll need to set the min and max number that your dice can produce. For the average die, that means a minimum of 1 and a maximum of 6. You’ll also want a function that randomly grabs a number within that range and prints it.\n",
    "\n",
    "(DO IT AGAIN-FOLLOW INSTRUCTIONS)"
   ]
  },
  {
   "cell_type": "code",
   "execution_count": null,
   "metadata": {},
   "outputs": [],
   "source": [
    "n=int(input('How many dice would you like to roll'))\n",
    "throws=1\n",
    "import random\n",
    "\n",
    "while throws<=n: \n",
    "    result=random.randint(1,6)\n",
    "    print(result)\n",
    "    throws+=1\n"
   ]
  },
  {
   "cell_type": "markdown",
   "metadata": {},
   "source": [
    "2. Mad Libs Generator\n",
    "\n",
    "The Goal: Inspired by Summer Son’s Mad Libs project with Javascript. The program will first prompt the user for a series of inputs a la Mad Libs. For example, a singular noun, an adjective, etc. Then, once all the information has been inputted, the program will take that data and place them into a premade story template. You’ll need prompts for user input, and to then print out the full story at the end with the input included."
   ]
  },
  {
   "cell_type": "code",
   "execution_count": null,
   "metadata": {},
   "outputs": [],
   "source": [
    "col=input('Please enter a colour')\n",
    "another_col=input('Please enter another colour')\n",
    "\n",
    "print('Roses are '+col+' Violets are '+ another_col)"
   ]
  },
  {
   "cell_type": "markdown",
   "metadata": {},
   "source": [
    "4. TextBased Adventure Game\n",
    "\n",
    "The Goal: Remember Adventure? Well, we’re going to build a more basic version of that. A complete text game, the program will let users move through rooms based on user input and get descriptions of each room. To create this, you’ll need to establish the directions in which the user can move, a way to track how far the user has moved (and therefore which room he/she is in), and to print out a description. You’ll also need to set limits for how far the user can move. In other words, create “walls” around the rooms that tell the user, “You can’t move further in this direction.”"
   ]
  },
  {
   "cell_type": "code",
   "execution_count": 4,
   "metadata": {},
   "outputs": [
    {
     "name": "stdout",
     "output_type": "stream",
     "text": [
      "Welcome to an adventure game. Enter 'quit' to exit the game any time\n"
     ]
    },
    {
     "name": "stdin",
     "output_type": "stream",
     "text": [
      "In which direction would you like to move (left or right)? left\n"
     ]
    },
    {
     "name": "stdout",
     "output_type": "stream",
     "text": [
      "You are in room 3: The room is blue with a white ceiling.\n"
     ]
    },
    {
     "name": "stdin",
     "output_type": "stream",
     "text": [
      "In which direction would you like to move (left or right)? left\n"
     ]
    },
    {
     "name": "stdout",
     "output_type": "stream",
     "text": [
      "You are in room 2: The room is yellow with a leather couch and a 40-inch TV.\n"
     ]
    },
    {
     "name": "stdin",
     "output_type": "stream",
     "text": [
      "In which direction would you like to move (left or right)? left\n"
     ]
    },
    {
     "name": "stdout",
     "output_type": "stream",
     "text": [
      "You are in room 1: The room is brown with a wooden dining table and a white cat.\n"
     ]
    },
    {
     "name": "stdin",
     "output_type": "stream",
     "text": [
      "In which direction would you like to move (left or right)? left\n"
     ]
    },
    {
     "name": "stdout",
     "output_type": "stream",
     "text": [
      "You have hit a wall. Please move in the opposite direction\n"
     ]
    },
    {
     "name": "stdin",
     "output_type": "stream",
     "text": [
      "In which direction would you like to move (left or right)? right\n"
     ]
    },
    {
     "name": "stdout",
     "output_type": "stream",
     "text": [
      "You are in room 1: The room is brown with a wooden dining table and a white cat.\n"
     ]
    },
    {
     "name": "stdin",
     "output_type": "stream",
     "text": [
      "In which direction would you like to move (left or right)? right\n"
     ]
    },
    {
     "name": "stdout",
     "output_type": "stream",
     "text": [
      "You are in room 2: The room is yellow with a leather couch and a 40-inch TV.\n"
     ]
    },
    {
     "name": "stdin",
     "output_type": "stream",
     "text": [
      "In which direction would you like to move (left or right)? right\n"
     ]
    },
    {
     "name": "stdout",
     "output_type": "stream",
     "text": [
      "You are in room 3: The room is blue with a white ceiling.\n"
     ]
    },
    {
     "name": "stdin",
     "output_type": "stream",
     "text": [
      "In which direction would you like to move (left or right)? right\n"
     ]
    },
    {
     "name": "stdout",
     "output_type": "stream",
     "text": [
      "You are home.\n"
     ]
    },
    {
     "name": "stdin",
     "output_type": "stream",
     "text": [
      "In which direction would you like to move (left or right)? right\n"
     ]
    },
    {
     "name": "stdout",
     "output_type": "stream",
     "text": [
      "You are in room 4: The room is green with a white ceiling.\n"
     ]
    },
    {
     "name": "stdin",
     "output_type": "stream",
     "text": [
      "In which direction would you like to move (left or right)? right\n"
     ]
    },
    {
     "name": "stdout",
     "output_type": "stream",
     "text": [
      "You are in room 5: The room is purple with a white ceiling.\n"
     ]
    },
    {
     "name": "stdin",
     "output_type": "stream",
     "text": [
      "In which direction would you like to move (left or right)? right\n"
     ]
    },
    {
     "name": "stdout",
     "output_type": "stream",
     "text": [
      "You are in room 6: The room is pink.\n"
     ]
    },
    {
     "name": "stdin",
     "output_type": "stream",
     "text": [
      "In which direction would you like to move (left or right)? right\n"
     ]
    },
    {
     "name": "stdout",
     "output_type": "stream",
     "text": [
      "You have hit a wall. Please move in the opposite direction\n"
     ]
    },
    {
     "name": "stdin",
     "output_type": "stream",
     "text": [
      "In which direction would you like to move (left or right)? kvrh\n",
      "please enter an appropriate direction jwfk\n",
      "In which direction would you like to move (left or right)? quit\n"
     ]
    },
    {
     "name": "stdout",
     "output_type": "stream",
     "text": [
      "Thanks for playing, player!\n"
     ]
    }
   ],
   "source": [
    "print('Welcome to an adventure game. Enter \\'quit\\' to exit the game any time')\n",
    "direction=input('In which direction would you like to move (left or right)?')\n",
    "location=0\n",
    "\n",
    "def open_door (number):\n",
    "    if number==-3:\n",
    "        result=print('You are in room 1: The room is brown with a wooden dining table and a white cat.')\n",
    "    elif number==-2:\n",
    "        result=print('You are in room 2: The room is yellow with a leather couch and a 40-inch TV.')\n",
    "    elif number==-1:\n",
    "        result=print('You are in room 3: The room is blue with a white ceiling.')\n",
    "    elif number==-0:\n",
    "        result=print('You are home.')\n",
    "    elif number==1:\n",
    "        result=print('You are in room 4: The room is green with a white ceiling.')\n",
    "    elif number==2:\n",
    "        result=print('You are in room 5: The room is purple with a white ceiling.')\n",
    "    elif number==3:\n",
    "        result=print('You are in room 6: The room is pink.')\n",
    "    else:\n",
    "        print('You have hit a wall. Please move in the opposite direction')\n",
    "\n",
    "\n",
    "while True:\n",
    "    if direction=='right':\n",
    "        location+=1\n",
    "        open_door(location)\n",
    "        \n",
    "        \n",
    "    elif direction=='left':\n",
    "        location-=1\n",
    "        open_door(location)\n",
    "    elif direction=='quit':\n",
    "        print('Thanks for playing, player!')\n",
    "        break\n",
    "    else:\n",
    "        direction=input('please enter an appropriate direction')\n",
    "        \n",
    "    direction=input('In which direction would you like to move (left or right)?')\n",
    "\n",
    "\n"
   ]
  },
  {
   "cell_type": "code",
   "execution_count": 5,
   "metadata": {},
   "outputs": [
    {
     "name": "stdout",
     "output_type": "stream",
     "text": [
      "Welcome to an adventure game. Enter 'quit' to exit the game any time\n"
     ]
    },
    {
     "name": "stdin",
     "output_type": "stream",
     "text": [
      "In which direction would you like to move (left or right)? left\n",
      "Would you like to open the door or keep exploring? explore\n",
      "In which direction would you like to move (left or right)? left\n",
      "Would you like to open the door or keep exploring? open\n"
     ]
    },
    {
     "name": "stdout",
     "output_type": "stream",
     "text": [
      "You are in room 1: The room is brown with a wooden dining table and a white cat.\n"
     ]
    },
    {
     "name": "stdin",
     "output_type": "stream",
     "text": [
      "Would you like to continue exploring? yes\n",
      "In which direction would you like to move (left or right)? right\n",
      "Would you like to open the door or keep exploring? open\n"
     ]
    },
    {
     "name": "stdout",
     "output_type": "stream",
     "text": [
      "You are in room 3: The room is blue with a white ceiling.\n"
     ]
    },
    {
     "name": "stdin",
     "output_type": "stream",
     "text": [
      "Would you like to continue exploring? no\n"
     ]
    },
    {
     "name": "stdout",
     "output_type": "stream",
     "text": [
      "Thanks for playing, player\n"
     ]
    }
   ],
   "source": [
    "#More complex game\n",
    "\n",
    "print('Welcome to an adventure game. Enter \\'quit\\' to exit the game any time')\n",
    "direction=input('In which direction would you like to move (left or right)?')\n",
    "location=0\n",
    "\n",
    "def open_door (number):\n",
    "    if number==-3:\n",
    "        result=print('You are in room 1: The room is brown with a wooden dining table and a white cat.')\n",
    "    elif number==-2:\n",
    "        result=print('You are in room 2: The room is yellow with a leather couch and a 40-inch TV.')\n",
    "    elif number==-1:\n",
    "        result=print('You are in room 3: The room is blue with a white ceiling.')\n",
    "    elif number==-0:\n",
    "        result=print('You are home.')\n",
    "    elif number==1:\n",
    "        result=print('You are in room 4: The room is green with a white ceiling.')\n",
    "    elif number==2:\n",
    "        result=print('You are in room 5: The room is purple with a white ceiling.')\n",
    "    elif number==3:\n",
    "        result=print('You are in room 6: The room is pink.')\n",
    "    else:\n",
    "        print('You have hit a wall. Please move in the opposite direction')\n",
    "\n",
    "\n",
    "    \n",
    "\n",
    "while True:\n",
    "    if direction=='right':\n",
    "        location+=1\n",
    "    elif direction=='left':\n",
    "        location-=1\n",
    "    elif direction=='quit':\n",
    "        print('Thanks for playing, player!')\n",
    "        break\n",
    "    else:\n",
    "        direction=input('please enter an appropriate direction')  \n",
    "        \n",
    "    door=input('Would you like to open the door or keep exploring?')\n",
    "    \n",
    "    if door=='open':\n",
    "        open_door(location)\n",
    "        cont=input('Would you like to continue exploring?')\n",
    "        if cont=='no':\n",
    "            print('Thanks for playing, player')\n",
    "            break\n",
    "        elif cont=='yes':\n",
    "            direction=input('In which direction would you like to move (left or right)?')\n",
    "            if direction=='right':\n",
    "                location+=1\n",
    "            elif direction=='left':\n",
    "                location-=1\n",
    "            elif direction=='quit':\n",
    "                print('Thanks for playing, player!')\n",
    "                break\n",
    "            else:\n",
    "                direction=input('please enter an appropriate direction')\n",
    "\n",
    "    elif door=='explore':\n",
    "        direction=input('In which direction would you like to move (left or right)?')\n",
    "        if direction=='right':\n",
    "            location+=1\n",
    "        elif direction=='left':\n",
    "            location-=1\n",
    "        elif direction=='quit':\n",
    "            print('Thanks for playing, player!')\n",
    "            break\n",
    "        else:\n",
    "            direction=input('please enter an appropriate direction')\n",
    "    elif direction=='quit':\n",
    "        print('Thanks for playing, player!')\n",
    "        break\n",
    "    else:\n",
    "        direction=input('please enter an appropriate direction')\n",
    "    \n",
    "\n",
    "\n"
   ]
  }
 ],
 "metadata": {
  "kernelspec": {
   "display_name": "Python 3",
   "language": "python",
   "name": "python3"
  },
  "language_info": {
   "codemirror_mode": {
    "name": "ipython",
    "version": 3
   },
   "file_extension": ".py",
   "mimetype": "text/x-python",
   "name": "python",
   "nbconvert_exporter": "python",
   "pygments_lexer": "ipython3",
   "version": "3.7.1"
  }
 },
 "nbformat": 4,
 "nbformat_minor": 2
}
