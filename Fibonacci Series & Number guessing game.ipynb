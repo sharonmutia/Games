{
 "cells": [
  {
   "cell_type": "code",
   "execution_count": null,
   "metadata": {},
   "outputs": [],
   "source": [
    "#memozation\n",
    "from functools import lru_cache as lc\n",
    "@lc (maxsize=1001)\n",
    "def fibonacci (n):\n",
    "    # Generate the fibonacci sequence\n",
    "    if n==0:\n",
    "        return 1\n",
    "    elif n==1:\n",
    "        return 1\n",
    "    elif n>1:\n",
    "        return fibonacci(n-1)+fibonacci(n-2)\n"
   ]
  },
  {
   "cell_type": "code",
   "execution_count": null,
   "metadata": {},
   "outputs": [],
   "source": [
    "for x in range(50):\n",
    "    print('position: ',x,fibonacci(x))\n",
    "# this function is really slow because of its recurssive nature. It calls the same function over and over again\n",
    "# what you can do is memozation. Its used to cache your results as it it stores fibonachi(10) and the next time \n",
    "# it sees fib(10) it just plugs in the formula instead of starting over. stores up to 120 as default. You can\n",
    "#create your own memozation formula but you can also use the inbuilt one"
   ]
  },
  {
   "cell_type": "code",
   "execution_count": null,
   "metadata": {},
   "outputs": [
    {
     "name": "stdout",
     "output_type": "stream",
     "text": [
      "Please enter your upper bound 100\n",
      "Is your guess  85\n",
      "lower\n",
      "Is your guess  71\n",
      "lower\n",
      "Is your guess  51\n",
      "lower\n",
      "Is your guess  7\n",
      "higher\n",
      "Is your guess  46\n",
      "higher\n",
      "Is your guess  83\n",
      "lower\n",
      "Is your guess  89\n",
      "lower\n",
      "Is your guess  70\n",
      "lower\n",
      "Is your guess  78\n",
      "lower\n",
      "Is your guess  82\n"
     ]
    }
   ],
   "source": [
    "# Guess the number game\n",
    "import random\n",
    "\n",
    "lower_bound=0\n",
    "upper_bound= int(input('Please enter your upper bound '))\n",
    "response='users response'\n",
    "upper_list=[]\n",
    "lower_list=[]\n",
    "\n",
    "guess= random.randint(lower_bound,upper_bound)    \n",
    "print ('Is your guess ',guess)\n",
    "response=input()\n",
    "\n",
    "while response == 'higher' or response=='lower':  \n",
    "    \n",
    "    if response=='higher':\n",
    "        upper_list.append(guess)\n",
    "        highest= min(upper_list)\n",
    "        lower_bound==highest\n",
    "    elif response=='lower':\n",
    "        lower_list.append(guess)\n",
    "        lowest=max(lower_list)\n",
    "        upper_bound==guess\n",
    "    elif response=='correct':\n",
    "        print('you win')\n",
    "        break\n",
    "    guess= random.randint(lower_bound,upper_bound)    \n",
    "    print ('Is your guess ',guess)\n",
    "    response=input()\n",
    "    #create a set to counter check that the guess is not in the set- set is better since it doesn't repeat and it\n",
    "    #isnt orderd so would be easier to find?\n",
    "    # you could also add +1 ifb higher and -1 if lower\n",
    "    \n",
    "    "
   ]
  },
  {
   "cell_type": "code",
   "execution_count": null,
   "metadata": {},
   "outputs": [
    {
     "name": "stdout",
     "output_type": "stream",
     "text": [
      "Please enter your upper bound 1000\n",
      "236\n",
      "higher\n",
      "Is your guess  583\n",
      "lower\n",
      "Is your guess  576\n",
      "lower\n",
      "Is your guess  415\n",
      "higher\n",
      "Is your guess  576\n",
      "lower\n",
      "Is your guess  483\n",
      "higher\n",
      "Is your guess  560\n",
      "lower\n",
      "Is your guess  519\n",
      "lower\n",
      "Is your guess  511\n",
      "lower\n",
      "Is your guess  488\n",
      "higher\n",
      "Is your guess  504\n",
      "lower\n",
      "Is your guess  496\n",
      "higher\n",
      "Is your guess  496\n",
      "higher\n",
      "Is your guess  504\n",
      "lower\n",
      "Is your guess  497\n",
      "higher\n",
      "Is your guess  502\n",
      "lower\n",
      "Is your guess  500\n",
      "coreect\n"
     ]
    }
   ],
   "source": [
    "#type 2\n",
    "# Guess the number game\n",
    "import random\n",
    "\n",
    "lower_bound=0\n",
    "upper_bound= int(input('Please enter your upper bound '))\n",
    "guess= random.randint(lower_bound,upper_bound)  \n",
    "print(guess)\n",
    "response=input()\n",
    "\n",
    "upper_list=[]\n",
    "lower_list=[]\n",
    "\n",
    "while True:  \n",
    "    \n",
    "    if response=='higher':\n",
    "        lower_bound=guess\n",
    "        guess= random.randint(lower_bound,upper_bound)    \n",
    "        print ('Is your guess ',guess)\n",
    "        response=input()\n",
    "    elif response=='lower':\n",
    "        upper_bound=guess\n",
    "        guess= random.randint(lower_bound,upper_bound)    \n",
    "        print ('Is your guess ',guess)\n",
    "        response=input()\n",
    "    elif response=='correct':\n",
    "        break\n",
    "        \n",
    "        \n",
    "print('you win')"
   ]
  }
 ],
 "metadata": {
  "kernelspec": {
   "display_name": "Python 3",
   "language": "python",
   "name": "python3"
  },
  "language_info": {
   "codemirror_mode": {
    "name": "ipython",
    "version": 3
   },
   "file_extension": ".py",
   "mimetype": "text/x-python",
   "name": "python",
   "nbconvert_exporter": "python",
   "pygments_lexer": "ipython3",
   "version": "3.7.1"
  }
 },
 "nbformat": 4,
 "nbformat_minor": 2
}
